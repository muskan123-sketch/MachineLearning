{
  "nbformat": 4,
  "nbformat_minor": 0,
  "metadata": {
    "colab": {
      "name": "Copy of artificial_neural_network.ipynb",
      "provenance": [],
      "collapsed_sections": [],
      "include_colab_link": true
    },
    "kernelspec": {
      "name": "python3",
      "display_name": "Python 3"
    }
  },
  "cells": [
    {
      "cell_type": "markdown",
      "metadata": {
        "id": "view-in-github",
        "colab_type": "text"
      },
      "source": [
        "<a href=\"https://colab.research.google.com/github/muskan123-sketch/MachineLearning/blob/main/Copy_of_artificial_neural_network.ipynb\" target=\"_parent\"><img src=\"https://colab.research.google.com/assets/colab-badge.svg\" alt=\"Open In Colab\"/></a>"
      ]
    },
    {
      "cell_type": "markdown",
      "metadata": {
        "id": "lP6JLo1tGNBg"
      },
      "source": [
        "# Artificial Neural Network"
      ]
    },
    {
      "cell_type": "markdown",
      "metadata": {
        "id": "gWZyYmS_UE_L"
      },
      "source": [
        "### Importing the libraries"
      ]
    },
    {
      "cell_type": "code",
      "metadata": {
        "id": "MxkJoQBkUIHC"
      },
      "source": [
        "import numpy as np\n",
        "import pandas as pd\n",
        "import tensorflow as tf"
      ],
      "execution_count": null,
      "outputs": []
    },
    {
      "cell_type": "code",
      "metadata": {
        "id": "ZaTwK7ojXr2F",
        "colab": {
          "base_uri": "https://localhost:8080/",
          "height": 35
        },
        "outputId": "b70018eb-20fa-4f3d-d9fe-049f9486f312"
      },
      "source": [
        "tf.__version__"
      ],
      "execution_count": null,
      "outputs": [
        {
          "output_type": "execute_result",
          "data": {
            "application/vnd.google.colaboratory.intrinsic+json": {
              "type": "string"
            },
            "text/plain": [
              "'2.3.0'"
            ]
          },
          "metadata": {
            "tags": []
          },
          "execution_count": 2
        }
      ]
    },
    {
      "cell_type": "markdown",
      "metadata": {
        "id": "1E0Q3aoKUCRX"
      },
      "source": [
        "## Part 1 - Data Preprocessing"
      ]
    },
    {
      "cell_type": "markdown",
      "metadata": {
        "id": "cKWAkFVGUU0Z"
      },
      "source": [
        "### Importing the dataset"
      ]
    },
    {
      "cell_type": "code",
      "metadata": {
        "id": "MXUkhkMfU4wq"
      },
      "source": [
        "dataset=pd.read_csv('Churn_Modelling.csv')\n",
        "X=dataset.iloc[:,3:-1].values\n",
        "y=dataset.iloc[:,-1].values"
      ],
      "execution_count": null,
      "outputs": []
    },
    {
      "cell_type": "code",
      "metadata": {
        "id": "VYP9cQTWbzuI",
        "colab": {
          "base_uri": "https://localhost:8080/"
        },
        "outputId": "ed75a134-cf66-4712-d909-14e4aa85e7c9"
      },
      "source": [
        "print(X)"
      ],
      "execution_count": null,
      "outputs": [
        {
          "output_type": "stream",
          "text": [
            "[[619 'France' 0 ... 1 1 101348.88]\n",
            " [608 'Spain' 0 ... 0 1 112542.58]\n",
            " [502 'France' 0 ... 1 0 113931.57]\n",
            " ...\n",
            " [709 'France' 0 ... 0 1 42085.58]\n",
            " [772 'Germany' 1 ... 1 0 92888.52]\n",
            " [792 'France' 0 ... 1 0 38190.78]]\n"
          ],
          "name": "stdout"
        }
      ]
    },
    {
      "cell_type": "code",
      "metadata": {
        "id": "38vKGE6Nb2RR",
        "colab": {
          "base_uri": "https://localhost:8080/"
        },
        "outputId": "16e5965a-19c2-40cd-8be0-ef7a131c5cc1"
      },
      "source": [
        "print(y)"
      ],
      "execution_count": null,
      "outputs": [
        {
          "output_type": "stream",
          "text": [
            "[1 0 1 ... 1 1 0]\n"
          ],
          "name": "stdout"
        }
      ]
    },
    {
      "cell_type": "markdown",
      "metadata": {
        "id": "N6bQ0UgSU-NJ"
      },
      "source": [
        "### Encoding categorical data"
      ]
    },
    {
      "cell_type": "markdown",
      "metadata": {
        "id": "le5MJreAbW52"
      },
      "source": [
        "Label Encoding the \"Gender\" column"
      ]
    },
    {
      "cell_type": "code",
      "metadata": {
        "id": "PxVKWXxLbczC"
      },
      "source": [
        "from sklearn.preprocessing import LabelEncoder\n",
        "Le=LabelEncoder()\n",
        "X[:,2]=Le.fit_transform(X[:,2])"
      ],
      "execution_count": null,
      "outputs": []
    },
    {
      "cell_type": "code",
      "metadata": {
        "id": "-M1KboxFb6OO",
        "colab": {
          "base_uri": "https://localhost:8080/"
        },
        "outputId": "24678069-e1aa-42b3-821d-548246d2b2f9"
      },
      "source": [
        "print(X)"
      ],
      "execution_count": null,
      "outputs": [
        {
          "output_type": "stream",
          "text": [
            "[[619 'France' 0 ... 1 1 101348.88]\n",
            " [608 'Spain' 0 ... 0 1 112542.58]\n",
            " [502 'France' 0 ... 1 0 113931.57]\n",
            " ...\n",
            " [709 'France' 0 ... 0 1 42085.58]\n",
            " [772 'Germany' 1 ... 1 0 92888.52]\n",
            " [792 'France' 0 ... 1 0 38190.78]]\n"
          ],
          "name": "stdout"
        }
      ]
    },
    {
      "cell_type": "markdown",
      "metadata": {
        "id": "CUxGZezpbMcb"
      },
      "source": [
        "One Hot Encoding the \"Geography\" column"
      ]
    },
    {
      "cell_type": "code",
      "metadata": {
        "id": "AMXC8-KMVirw"
      },
      "source": [
        "from sklearn.compose import ColumnTransformer\n",
        "from sklearn.preprocessing import OneHotEncoder\n",
        "ct=ColumnTransformer(transformers=[('encoder',OneHotEncoder(),[1])],remainder='passthrough')\n",
        "X=np.array(ct.fit_transform(X))"
      ],
      "execution_count": null,
      "outputs": []
    },
    {
      "cell_type": "code",
      "metadata": {
        "id": "ZcxwEon-b8nV",
        "colab": {
          "base_uri": "https://localhost:8080/"
        },
        "outputId": "d66cb7bb-2652-4f16-ae10-009fe92ab12b"
      },
      "source": [
        "print(X)"
      ],
      "execution_count": null,
      "outputs": [
        {
          "output_type": "stream",
          "text": [
            "[[1.0 0.0 0.0 ... 1 1 101348.88]\n",
            " [0.0 0.0 1.0 ... 0 1 112542.58]\n",
            " [1.0 0.0 0.0 ... 1 0 113931.57]\n",
            " ...\n",
            " [1.0 0.0 0.0 ... 0 1 42085.58]\n",
            " [0.0 1.0 0.0 ... 1 0 92888.52]\n",
            " [1.0 0.0 0.0 ... 1 0 38190.78]]\n"
          ],
          "name": "stdout"
        }
      ]
    },
    {
      "cell_type": "markdown",
      "metadata": {
        "id": "vHol938cW8zd"
      },
      "source": [
        "### Splitting the dataset into the Training set and Test set"
      ]
    },
    {
      "cell_type": "code",
      "metadata": {
        "id": "Z-TDt0Y_XEfc"
      },
      "source": [
        "from sklearn.model_selection import train_test_split\n",
        "X_train, X_test, y_train, y_test = train_test_split(X, y, test_size = 0.2, random_state = 0)"
      ],
      "execution_count": null,
      "outputs": []
    },
    {
      "cell_type": "markdown",
      "metadata": {
        "id": "RE_FcHyfV3TQ"
      },
      "source": [
        "### Feature Scaling"
      ]
    },
    {
      "cell_type": "code",
      "metadata": {
        "id": "ViCrE00rV8Sk"
      },
      "source": [
        "from sklearn.preprocessing import StandardScaler\n",
        "sc = StandardScaler()\n",
        "X_train = sc.fit_transform(X_train)\n",
        "X_test = sc.transform(X_test)"
      ],
      "execution_count": null,
      "outputs": []
    },
    {
      "cell_type": "markdown",
      "metadata": {
        "id": "-zfEzkRVXIwF"
      },
      "source": [
        "## Part 2 - Building the ANN"
      ]
    },
    {
      "cell_type": "markdown",
      "metadata": {
        "id": "KvdeScabXtlB"
      },
      "source": [
        "### Initializing the ANN"
      ]
    },
    {
      "cell_type": "code",
      "metadata": {
        "id": "3dtrScHxXQox"
      },
      "source": [
        "ann=tf.keras.models.Sequential()"
      ],
      "execution_count": null,
      "outputs": []
    },
    {
      "cell_type": "markdown",
      "metadata": {
        "id": "rP6urV6SX7kS"
      },
      "source": [
        "### Adding the input layer and the first hidden layer"
      ]
    },
    {
      "cell_type": "code",
      "metadata": {
        "id": "bppGycBXYCQr"
      },
      "source": [
        "ann.add(tf.keras.layers.Dense(units=6,activation='relu'))"
      ],
      "execution_count": null,
      "outputs": []
    },
    {
      "cell_type": "markdown",
      "metadata": {
        "id": "BELWAc_8YJze"
      },
      "source": [
        "### Adding the second hidden layer"
      ]
    },
    {
      "cell_type": "code",
      "metadata": {
        "id": "JneR0u0sYRTd"
      },
      "source": [
        "ann.add(tf.keras.layers.Dense(units=6,activation='relu'))"
      ],
      "execution_count": null,
      "outputs": []
    },
    {
      "cell_type": "markdown",
      "metadata": {
        "id": "OyNEe6RXYcU4"
      },
      "source": [
        "### Adding the output layer"
      ]
    },
    {
      "cell_type": "code",
      "metadata": {
        "id": "Cn3x41RBYfvY"
      },
      "source": [
        "ann.add(tf.keras.layers.Dense(units=1,activation='sigmoid'))"
      ],
      "execution_count": null,
      "outputs": []
    },
    {
      "cell_type": "markdown",
      "metadata": {
        "id": "JT4u2S1_Y4WG"
      },
      "source": [
        "## Part 3 - Training the ANN"
      ]
    },
    {
      "cell_type": "markdown",
      "metadata": {
        "id": "8GWlJChhY_ZI"
      },
      "source": [
        "### Compiling the ANN"
      ]
    },
    {
      "cell_type": "code",
      "metadata": {
        "id": "fG3RrwDXZEaS"
      },
      "source": [
        "ann.compile(optimizer = 'adam', loss = 'binary_crossentropy', metrics = ['accuracy'])"
      ],
      "execution_count": null,
      "outputs": []
    },
    {
      "cell_type": "markdown",
      "metadata": {
        "id": "0QR_G5u7ZLSM"
      },
      "source": [
        "### Training the ANN on the Training set"
      ]
    },
    {
      "cell_type": "code",
      "metadata": {
        "id": "nHZ-LKv_ZRb3",
        "colab": {
          "base_uri": "https://localhost:8080/"
        },
        "outputId": "205841ed-3152-455c-9f37-00d04e8f600a"
      },
      "source": [
        "ann.fit(X_train,y_train,batch_size=32,epochs=100)"
      ],
      "execution_count": null,
      "outputs": [
        {
          "output_type": "stream",
          "text": [
            "Epoch 1/100\n",
            "250/250 [==============================] - 0s 774us/step - loss: 0.7054 - accuracy: 0.5449\n",
            "Epoch 2/100\n",
            "250/250 [==============================] - 0s 794us/step - loss: 0.5142 - accuracy: 0.7961\n",
            "Epoch 3/100\n",
            "250/250 [==============================] - 0s 868us/step - loss: 0.4717 - accuracy: 0.7960\n",
            "Epoch 4/100\n",
            "250/250 [==============================] - 0s 793us/step - loss: 0.4522 - accuracy: 0.7961\n",
            "Epoch 5/100\n",
            "250/250 [==============================] - 0s 797us/step - loss: 0.4407 - accuracy: 0.7991\n",
            "Epoch 6/100\n",
            "250/250 [==============================] - 0s 790us/step - loss: 0.4331 - accuracy: 0.8077\n",
            "Epoch 7/100\n",
            "250/250 [==============================] - 0s 768us/step - loss: 0.4274 - accuracy: 0.8112\n",
            "Epoch 8/100\n",
            "250/250 [==============================] - 0s 773us/step - loss: 0.4230 - accuracy: 0.8152\n",
            "Epoch 9/100\n",
            "250/250 [==============================] - 0s 811us/step - loss: 0.4191 - accuracy: 0.8190\n",
            "Epoch 10/100\n",
            "250/250 [==============================] - 0s 799us/step - loss: 0.4160 - accuracy: 0.8215\n",
            "Epoch 11/100\n",
            "250/250 [==============================] - 0s 839us/step - loss: 0.4134 - accuracy: 0.8216\n",
            "Epoch 12/100\n",
            "250/250 [==============================] - 0s 775us/step - loss: 0.4105 - accuracy: 0.8245\n",
            "Epoch 13/100\n",
            "250/250 [==============================] - 0s 792us/step - loss: 0.4077 - accuracy: 0.8273\n",
            "Epoch 14/100\n",
            "250/250 [==============================] - 0s 773us/step - loss: 0.4050 - accuracy: 0.8279\n",
            "Epoch 15/100\n",
            "250/250 [==============================] - 0s 854us/step - loss: 0.4025 - accuracy: 0.8294\n",
            "Epoch 16/100\n",
            "250/250 [==============================] - 0s 801us/step - loss: 0.4002 - accuracy: 0.8295\n",
            "Epoch 17/100\n",
            "250/250 [==============================] - 0s 780us/step - loss: 0.3975 - accuracy: 0.8304\n",
            "Epoch 18/100\n",
            "250/250 [==============================] - 0s 788us/step - loss: 0.3951 - accuracy: 0.8295\n",
            "Epoch 19/100\n",
            "250/250 [==============================] - 0s 851us/step - loss: 0.3919 - accuracy: 0.8295\n",
            "Epoch 20/100\n",
            "250/250 [==============================] - 0s 845us/step - loss: 0.3877 - accuracy: 0.8342\n",
            "Epoch 21/100\n",
            "250/250 [==============================] - 0s 799us/step - loss: 0.3837 - accuracy: 0.8375\n",
            "Epoch 22/100\n",
            "250/250 [==============================] - 0s 774us/step - loss: 0.3794 - accuracy: 0.8386\n",
            "Epoch 23/100\n",
            "250/250 [==============================] - 0s 795us/step - loss: 0.3757 - accuracy: 0.8404\n",
            "Epoch 24/100\n",
            "250/250 [==============================] - 0s 805us/step - loss: 0.3728 - accuracy: 0.8455\n",
            "Epoch 25/100\n",
            "250/250 [==============================] - 0s 793us/step - loss: 0.3705 - accuracy: 0.8455\n",
            "Epoch 26/100\n",
            "250/250 [==============================] - 0s 795us/step - loss: 0.3688 - accuracy: 0.8455\n",
            "Epoch 27/100\n",
            "250/250 [==============================] - 0s 777us/step - loss: 0.3670 - accuracy: 0.8493\n",
            "Epoch 28/100\n",
            "250/250 [==============================] - 0s 810us/step - loss: 0.3651 - accuracy: 0.8495\n",
            "Epoch 29/100\n",
            "250/250 [==============================] - 0s 780us/step - loss: 0.3632 - accuracy: 0.8518\n",
            "Epoch 30/100\n",
            "250/250 [==============================] - 0s 855us/step - loss: 0.3619 - accuracy: 0.8522\n",
            "Epoch 31/100\n",
            "250/250 [==============================] - 0s 793us/step - loss: 0.3603 - accuracy: 0.8530\n",
            "Epoch 32/100\n",
            "250/250 [==============================] - 0s 792us/step - loss: 0.3592 - accuracy: 0.8537\n",
            "Epoch 33/100\n",
            "250/250 [==============================] - 0s 789us/step - loss: 0.3576 - accuracy: 0.8534\n",
            "Epoch 34/100\n",
            "250/250 [==============================] - 0s 802us/step - loss: 0.3567 - accuracy: 0.8569\n",
            "Epoch 35/100\n",
            "250/250 [==============================] - 0s 795us/step - loss: 0.3553 - accuracy: 0.8566\n",
            "Epoch 36/100\n",
            "250/250 [==============================] - 0s 792us/step - loss: 0.3542 - accuracy: 0.8566\n",
            "Epoch 37/100\n",
            "250/250 [==============================] - 0s 780us/step - loss: 0.3529 - accuracy: 0.8565\n",
            "Epoch 38/100\n",
            "250/250 [==============================] - 0s 801us/step - loss: 0.3521 - accuracy: 0.8564\n",
            "Epoch 39/100\n",
            "250/250 [==============================] - 0s 781us/step - loss: 0.3513 - accuracy: 0.8585\n",
            "Epoch 40/100\n",
            "250/250 [==============================] - 0s 857us/step - loss: 0.3503 - accuracy: 0.8576\n",
            "Epoch 41/100\n",
            "250/250 [==============================] - 0s 786us/step - loss: 0.3495 - accuracy: 0.8586\n",
            "Epoch 42/100\n",
            "250/250 [==============================] - 0s 770us/step - loss: 0.3486 - accuracy: 0.8587\n",
            "Epoch 43/100\n",
            "250/250 [==============================] - 0s 804us/step - loss: 0.3478 - accuracy: 0.8595\n",
            "Epoch 44/100\n",
            "250/250 [==============================] - 0s 795us/step - loss: 0.3469 - accuracy: 0.8593\n",
            "Epoch 45/100\n",
            "250/250 [==============================] - 0s 834us/step - loss: 0.3460 - accuracy: 0.8605\n",
            "Epoch 46/100\n",
            "250/250 [==============================] - 0s 797us/step - loss: 0.3458 - accuracy: 0.8596\n",
            "Epoch 47/100\n",
            "250/250 [==============================] - 0s 805us/step - loss: 0.3452 - accuracy: 0.8591\n",
            "Epoch 48/100\n",
            "250/250 [==============================] - 0s 790us/step - loss: 0.3444 - accuracy: 0.8589\n",
            "Epoch 49/100\n",
            "250/250 [==============================] - 0s 797us/step - loss: 0.3441 - accuracy: 0.8593\n",
            "Epoch 50/100\n",
            "250/250 [==============================] - 0s 804us/step - loss: 0.3433 - accuracy: 0.8596\n",
            "Epoch 51/100\n",
            "250/250 [==============================] - 0s 783us/step - loss: 0.3425 - accuracy: 0.8602\n",
            "Epoch 52/100\n",
            "250/250 [==============================] - 0s 824us/step - loss: 0.3418 - accuracy: 0.8604\n",
            "Epoch 53/100\n",
            "250/250 [==============================] - 0s 784us/step - loss: 0.3416 - accuracy: 0.8597\n",
            "Epoch 54/100\n",
            "250/250 [==============================] - 0s 803us/step - loss: 0.3414 - accuracy: 0.8605\n",
            "Epoch 55/100\n",
            "250/250 [==============================] - 0s 845us/step - loss: 0.3409 - accuracy: 0.8605\n",
            "Epoch 56/100\n",
            "250/250 [==============================] - 0s 792us/step - loss: 0.3406 - accuracy: 0.8634\n",
            "Epoch 57/100\n",
            "250/250 [==============================] - 0s 835us/step - loss: 0.3406 - accuracy: 0.8604\n",
            "Epoch 58/100\n",
            "250/250 [==============================] - 0s 785us/step - loss: 0.3397 - accuracy: 0.8624\n",
            "Epoch 59/100\n",
            "250/250 [==============================] - 0s 870us/step - loss: 0.3395 - accuracy: 0.8614\n",
            "Epoch 60/100\n",
            "250/250 [==============================] - 0s 782us/step - loss: 0.3394 - accuracy: 0.8620\n",
            "Epoch 61/100\n",
            "250/250 [==============================] - 0s 822us/step - loss: 0.3395 - accuracy: 0.8616\n",
            "Epoch 62/100\n",
            "250/250 [==============================] - 0s 773us/step - loss: 0.3388 - accuracy: 0.8624\n",
            "Epoch 63/100\n",
            "250/250 [==============================] - 0s 767us/step - loss: 0.3389 - accuracy: 0.8615\n",
            "Epoch 64/100\n",
            "250/250 [==============================] - 0s 839us/step - loss: 0.3382 - accuracy: 0.8616\n",
            "Epoch 65/100\n",
            "250/250 [==============================] - 0s 773us/step - loss: 0.3384 - accuracy: 0.8606\n",
            "Epoch 66/100\n",
            "250/250 [==============================] - 0s 789us/step - loss: 0.3381 - accuracy: 0.8621\n",
            "Epoch 67/100\n",
            "250/250 [==============================] - 0s 841us/step - loss: 0.3382 - accuracy: 0.8618\n",
            "Epoch 68/100\n",
            "250/250 [==============================] - 0s 782us/step - loss: 0.3378 - accuracy: 0.8601\n",
            "Epoch 69/100\n",
            "250/250 [==============================] - 0s 843us/step - loss: 0.3374 - accuracy: 0.8622\n",
            "Epoch 70/100\n",
            "250/250 [==============================] - 0s 789us/step - loss: 0.3380 - accuracy: 0.8620\n",
            "Epoch 71/100\n",
            "250/250 [==============================] - 0s 883us/step - loss: 0.3370 - accuracy: 0.8618\n",
            "Epoch 72/100\n",
            "250/250 [==============================] - 0s 813us/step - loss: 0.3366 - accuracy: 0.8634\n",
            "Epoch 73/100\n",
            "250/250 [==============================] - 0s 782us/step - loss: 0.3366 - accuracy: 0.8621\n",
            "Epoch 74/100\n",
            "250/250 [==============================] - 0s 836us/step - loss: 0.3363 - accuracy: 0.8640\n",
            "Epoch 75/100\n",
            "250/250 [==============================] - 0s 784us/step - loss: 0.3360 - accuracy: 0.8620\n",
            "Epoch 76/100\n",
            "250/250 [==============================] - 0s 826us/step - loss: 0.3359 - accuracy: 0.8622\n",
            "Epoch 77/100\n",
            "250/250 [==============================] - 0s 793us/step - loss: 0.3356 - accuracy: 0.8635\n",
            "Epoch 78/100\n",
            "250/250 [==============================] - 0s 778us/step - loss: 0.3356 - accuracy: 0.8620\n",
            "Epoch 79/100\n",
            "250/250 [==============================] - 0s 858us/step - loss: 0.3349 - accuracy: 0.8634\n",
            "Epoch 80/100\n",
            "250/250 [==============================] - 0s 796us/step - loss: 0.3357 - accuracy: 0.8646\n",
            "Epoch 81/100\n",
            "250/250 [==============================] - 0s 797us/step - loss: 0.3348 - accuracy: 0.8639\n",
            "Epoch 82/100\n",
            "250/250 [==============================] - 0s 786us/step - loss: 0.3348 - accuracy: 0.8643\n",
            "Epoch 83/100\n",
            "250/250 [==============================] - 0s 840us/step - loss: 0.3346 - accuracy: 0.8646\n",
            "Epoch 84/100\n",
            "250/250 [==============================] - 0s 878us/step - loss: 0.3343 - accuracy: 0.8644\n",
            "Epoch 85/100\n",
            "250/250 [==============================] - 0s 852us/step - loss: 0.3346 - accuracy: 0.8634\n",
            "Epoch 86/100\n",
            "250/250 [==============================] - 0s 802us/step - loss: 0.3337 - accuracy: 0.8651\n",
            "Epoch 87/100\n",
            "250/250 [==============================] - 0s 841us/step - loss: 0.3340 - accuracy: 0.8633\n",
            "Epoch 88/100\n",
            "250/250 [==============================] - 0s 849us/step - loss: 0.3333 - accuracy: 0.8635\n",
            "Epoch 89/100\n",
            "250/250 [==============================] - 0s 784us/step - loss: 0.3337 - accuracy: 0.8635\n",
            "Epoch 90/100\n",
            "250/250 [==============================] - 0s 788us/step - loss: 0.3338 - accuracy: 0.8635\n",
            "Epoch 91/100\n",
            "250/250 [==============================] - 0s 837us/step - loss: 0.3328 - accuracy: 0.8648\n",
            "Epoch 92/100\n",
            "250/250 [==============================] - 0s 798us/step - loss: 0.3324 - accuracy: 0.8646\n",
            "Epoch 93/100\n",
            "250/250 [==============================] - 0s 893us/step - loss: 0.3326 - accuracy: 0.8634\n",
            "Epoch 94/100\n",
            "250/250 [==============================] - 0s 780us/step - loss: 0.3324 - accuracy: 0.8662\n",
            "Epoch 95/100\n",
            "250/250 [==============================] - 0s 849us/step - loss: 0.3326 - accuracy: 0.8654\n",
            "Epoch 96/100\n",
            "250/250 [==============================] - 0s 828us/step - loss: 0.3327 - accuracy: 0.8648\n",
            "Epoch 97/100\n",
            "250/250 [==============================] - 0s 858us/step - loss: 0.3326 - accuracy: 0.8619\n",
            "Epoch 98/100\n",
            "250/250 [==============================] - 0s 877us/step - loss: 0.3327 - accuracy: 0.8637\n",
            "Epoch 99/100\n",
            "250/250 [==============================] - 0s 832us/step - loss: 0.3320 - accuracy: 0.8631\n",
            "Epoch 100/100\n",
            "250/250 [==============================] - 0s 795us/step - loss: 0.3317 - accuracy: 0.8639\n"
          ],
          "name": "stdout"
        },
        {
          "output_type": "execute_result",
          "data": {
            "text/plain": [
              "<tensorflow.python.keras.callbacks.History at 0x7ff734f91e48>"
            ]
          },
          "metadata": {
            "tags": []
          },
          "execution_count": 28
        }
      ]
    },
    {
      "cell_type": "markdown",
      "metadata": {
        "id": "tJj5k2MxZga3"
      },
      "source": [
        "## Part 4 - Making the predictions and evaluating the model"
      ]
    },
    {
      "cell_type": "markdown",
      "metadata": {
        "id": "84QFoqGYeXHL"
      },
      "source": [
        "### Predicting the result of a single observation"
      ]
    },
    {
      "cell_type": "code",
      "metadata": {
        "id": "Ph7MGrfWB1lj"
      },
      "source": [
        ""
      ],
      "execution_count": null,
      "outputs": []
    },
    {
      "cell_type": "markdown",
      "metadata": {
        "id": "CGRo3eacgDdC"
      },
      "source": [
        "**Homework**\n",
        "\n",
        "Use our ANN model to predict if the customer with the following informations will leave the bank: \n",
        "\n",
        "Geography: France\n",
        "\n",
        "Credit Score: 600\n",
        "\n",
        "Gender: Male\n",
        "\n",
        "Age: 40 years old\n",
        "\n",
        "Tenure: 3 years\n",
        "\n",
        "Balance: \\$ 60000\n",
        "\n",
        "Number of Products: 2\n",
        "\n",
        "Does this customer have a credit card? Yes\n",
        "\n",
        "Is this customer an Active Member: Yes\n",
        "\n",
        "Estimated Salary: \\$ 50000\n",
        "\n",
        "So, should we say goodbye to that customer?"
      ]
    },
    {
      "cell_type": "markdown",
      "metadata": {
        "id": "ZhU1LTgPg-kH"
      },
      "source": [
        "**Solution**"
      ]
    },
    {
      "cell_type": "code",
      "metadata": {
        "id": "2d8IoCCkeWGL",
        "colab": {
          "base_uri": "https://localhost:8080/"
        },
        "outputId": "57a1e08c-1f86-43b4-b449-86b19250caa2"
      },
      "source": [
        "print(ann.predict(sc.transform([[1, 0, 0, 600, 1, 40, 3, 60000, 2, 1, 1, 50000]])) > 0.5)"
      ],
      "execution_count": null,
      "outputs": [
        {
          "output_type": "stream",
          "text": [
            "[[False]]\n"
          ],
          "name": "stdout"
        }
      ]
    },
    {
      "cell_type": "markdown",
      "metadata": {
        "id": "wGjx94g2n7OV"
      },
      "source": [
        "Therefore, our ANN model predicts that this customer stays in the bank!\n",
        "\n",
        "**Important note 1:** Notice that the values of the features were all input in a double pair of square brackets. That's because the \"predict\" method always expects a 2D array as the format of its inputs. And putting our values into a double pair of square brackets makes the input exactly a 2D array.\n",
        "\n",
        "**Important note 2:** Notice also that the \"France\" country was not input as a string in the last column but as \"1, 0, 0\" in the first three columns. That's because of course the predict method expects the one-hot-encoded values of the state, and as we see in the first row of the matrix of features X, \"France\" was encoded as \"1, 0, 0\". And be careful to include these values in the first three columns, because the dummy variables are always created in the first columns."
      ]
    },
    {
      "cell_type": "markdown",
      "metadata": {
        "id": "u7yx47jPZt11"
      },
      "source": [
        "### Predicting the Test set results"
      ]
    },
    {
      "cell_type": "code",
      "metadata": {
        "id": "nIyEeQdRZwgs",
        "colab": {
          "base_uri": "https://localhost:8080/"
        },
        "outputId": "f287e575-3a07-4f82-944e-7b5342fcef22"
      },
      "source": [
        "y_pred=ann.predict(X_test)\n",
        "y_pred=(y_pred>0.5)\n",
        "print(np.concatenate((y_pred.reshape(len(y_pred),1),y_test.reshape(len(y_test),1)),1))"
      ],
      "execution_count": null,
      "outputs": [
        {
          "output_type": "stream",
          "text": [
            "[[0 0]\n",
            " [0 1]\n",
            " [0 0]\n",
            " ...\n",
            " [0 0]\n",
            " [0 0]\n",
            " [0 0]]\n"
          ],
          "name": "stdout"
        }
      ]
    },
    {
      "cell_type": "markdown",
      "metadata": {
        "id": "o0oyfLWoaEGw"
      },
      "source": [
        "### Making the Confusion Matrix"
      ]
    },
    {
      "cell_type": "code",
      "metadata": {
        "id": "ci6K_r6LaF6P",
        "colab": {
          "base_uri": "https://localhost:8080/"
        },
        "outputId": "e8e3c38b-db62-4d2e-981e-243dc7cb3bb4"
      },
      "source": [
        "from sklearn.metrics import confusion_matrix, accuracy_score\n",
        "cm = confusion_matrix(y_test, y_pred)\n",
        "print(cm)\n",
        "accuracy_score(y_test, y_pred)"
      ],
      "execution_count": null,
      "outputs": [
        {
          "output_type": "stream",
          "text": [
            "[[1522   73]\n",
            " [ 207  198]]\n"
          ],
          "name": "stdout"
        },
        {
          "output_type": "execute_result",
          "data": {
            "text/plain": [
              "0.86"
            ]
          },
          "metadata": {
            "tags": []
          },
          "execution_count": 35
        }
      ]
    }
  ]
}